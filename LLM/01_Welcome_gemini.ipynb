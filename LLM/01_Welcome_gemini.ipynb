{
  "nbformat": 4,
  "nbformat_minor": 0,
  "metadata": {
    "colab": {
      "provenance": []
    },
    "kernelspec": {
      "name": "python3",
      "display_name": "Python 3"
    },
    "language_info": {
      "name": "python"
    }
  },
  "cells": [
    {
      "cell_type": "markdown",
      "source": [
        "Gemini_API 자연어 호출 사용하기"
      ],
      "metadata": {
        "id": "vl3JHHFOID7E"
      }
    },
    {
      "cell_type": "code",
      "execution_count": null,
      "metadata": {
        "colab": {
          "base_uri": "https://localhost:8080/"
        },
        "id": "cNwlkmkqHoki",
        "outputId": "025fee91-b414-4dc9-b2ec-00a49f21d863"
      },
      "outputs": [
        {
          "output_type": "stream",
          "name": "stdout",
          "text": [
            "\u001b[?25l   \u001b[90m━━━━━━━━━━━━━━━━━━━━━━━━━━━━━━━━━━━━━━━━\u001b[0m \u001b[32m0.0/160.8 kB\u001b[0m \u001b[31m?\u001b[0m eta \u001b[36m-:--:--\u001b[0m\r\u001b[2K   \u001b[91m━━━━━━━━━━━━━━━━━━━━━━━━━━━━━━━━━━━━━━\u001b[0m\u001b[90m╺\u001b[0m\u001b[90m━\u001b[0m \u001b[32m153.6/160.8 kB\u001b[0m \u001b[31m7.3 MB/s\u001b[0m eta \u001b[36m0:00:01\u001b[0m\r\u001b[2K   \u001b[90m━━━━━━━━━━━━━━━━━━━━━━━━━━━━━━━━━━━━━━━━\u001b[0m \u001b[32m160.8/160.8 kB\u001b[0m \u001b[31m4.1 MB/s\u001b[0m eta \u001b[36m0:00:00\u001b[0m\n",
            "\u001b[?25h\u001b[?25l   \u001b[90m━━━━━━━━━━━━━━━━━━━━━━━━━━━━━━━━━━━━━━━━\u001b[0m \u001b[32m0.0/760.0 kB\u001b[0m \u001b[31m?\u001b[0m eta \u001b[36m-:--:--\u001b[0m\r\u001b[2K   \u001b[91m━━━━━━━━━━━━━━━━━━━━━━━━━━━━━━━━━━━━━━━\u001b[0m\u001b[91m╸\u001b[0m \u001b[32m757.8/760.0 kB\u001b[0m \u001b[31m48.0 MB/s\u001b[0m eta \u001b[36m0:00:01\u001b[0m\r\u001b[2K   \u001b[90m━━━━━━━━━━━━━━━━━━━━━━━━━━━━━━━━━━━━━━━━\u001b[0m \u001b[32m760.0/760.0 kB\u001b[0m \u001b[31m20.8 MB/s\u001b[0m eta \u001b[36m0:00:00\u001b[0m\n",
            "\u001b[?25h"
          ]
        }
      ],
      "source": [
        "!pip install -q -U google_generativeai"
      ]
    },
    {
      "cell_type": "code",
      "source": [
        "# 패키지\n",
        "\n",
        "import pathlib\n",
        "import textwrap\n",
        "# c++ 형태로 되어있어서 text를 wrap해서 보냄\n",
        "\n",
        "import google.generativeai as genai\n",
        "\n",
        "from IPython.display import display\n",
        "from IPython.display import Markdown\n",
        "\n",
        "# Helpers => path 잡아줌\n",
        "def to_markdown(text):\n",
        "  text = text.replace('•', '  *')\n",
        "  return Markdown(textwrap.indent(text, '> ', predicate=lambda _: True)) # markdown 언어로 변경"
      ],
      "metadata": {
        "id": "TFLOgRPpIQ-0"
      },
      "execution_count": null,
      "outputs": []
    },
    {
      "cell_type": "code",
      "source": [
        "# 구글 생성형 AI 라이브러리를 가져옴\n",
        "import google.generativeai as genai\n",
        "\n",
        "# 구글 Colab에서 사용자 데이터를 가져오기 위한 모듈을 임포트\n",
        "from google.colab import userdata\n",
        "\n",
        "#에러가 발생할 경우 자동으로 재도전하도록 함\n",
        "from google.api_core import retry\n",
        "\n",
        "# OS와 상호작용하기 위한 os 모듈을 임포트 (환경 변수나 파일 경로 관리 등에 사용)\n",
        "import os\n",
        "\n",
        "# os.environ[open_api_key] ?\n",
        "# 'GOOGLE_API_KEY' 값을 가져와 API_KEY 변수에 저장\n",
        "API_KEY = userdata.get('YOUR GOOGLE_API_KEY')\n",
        "\n",
        "# 구글 생성형 AI 라이브러리 설정을 API_KEY로 구성\n",
        "genai.configure(api_key=API_KEY)"
      ],
      "metadata": {
        "id": "WuisyThyIpMM"
      },
      "execution_count": null,
      "outputs": []
    },
    {
      "cell_type": "code",
      "source": [
        "# ultra(most expensive) / pro model\n",
        "for m in genai.list_models():\n",
        "  if 'generateContent' in m.supported_generation_methods:\n",
        "    print(m.name)"
      ],
      "metadata": {
        "colab": {
          "base_uri": "https://localhost:8080/",
          "height": 434
        },
        "id": "Pt0foe2uM5eB",
        "outputId": "719e486f-3365-4f28-f477-0ad6d26b5557"
      },
      "execution_count": null,
      "outputs": [
        {
          "output_type": "stream",
          "name": "stdout",
          "text": [
            "models/gemini-1.0-pro-latest\n",
            "models/gemini-1.0-pro\n",
            "models/gemini-pro\n",
            "models/gemini-1.0-pro-001\n",
            "models/gemini-1.0-pro-vision-latest\n",
            "models/gemini-pro-vision\n",
            "models/gemini-1.5-pro-latest\n",
            "models/gemini-1.5-pro-001\n",
            "models/gemini-1.5-pro-002\n",
            "models/gemini-1.5-pro\n",
            "models/gemini-1.5-pro-exp-0801\n",
            "models/gemini-1.5-pro-exp-0827\n",
            "models/gemini-1.5-flash-latest\n",
            "models/gemini-1.5-flash-001\n",
            "models/gemini-1.5-flash-001-tuning\n",
            "models/gemini-1.5-flash\n",
            "models/gemini-1.5-flash-exp-0827\n",
            "models/gemini-1.5-flash-002\n",
            "models/gemini-1.5-flash-8b\n",
            "models/gemini-1.5-flash-8b-001\n",
            "models/gemini-1.5-flash-8b-latest\n",
            "models/gemini-1.5-flash-8b-exp-0827\n",
            "models/gemini-1.5-flash-8b-exp-0924\n"
          ]
        }
      ]
    },
    {
      "cell_type": "code",
      "source": [
        "# 텍스트 생성하기\n",
        "\n",
        "model = genai.GenerativeModel(\"gemini-pro\") # pro model 사용 선언\n",
        "\n",
        "%time\n",
        "response = model.generate_content(\"인생의 의미는 뭘까요?\")\n",
        "# response\n",
        "response.text\n",
        "\n",
        "# window text => 대답 풍부 (프로토타입 할 때 gemini good!)"
      ],
      "metadata": {
        "colab": {
          "base_uri": "https://localhost:8080/",
          "height": 235
        },
        "id": "VK1ogMR5M_oY",
        "outputId": "685f1272-4b18-4666-d970-c1fcd5d366ff"
      },
      "execution_count": null,
      "outputs": [
        {
          "output_type": "stream",
          "name": "stdout",
          "text": [
            "CPU times: user 0 ns, sys: 3 µs, total: 3 µs\n",
            "Wall time: 7.15 µs\n"
          ]
        },
        {
          "output_type": "execute_result",
          "data": {
            "text/plain": [
              "'인생의 의미는 고대부터 철학자, 종교인, 과학자 등 많은 사람들이 고민해 온 질문입니다. 이 질문에 대한 단 하나의 보편적인 답은 없으며, 각 개인은 자신의 고유한 의미를 찾아야 합니다.\\n\\n다음은 인생의 의미에 대한 몇 가지 일반적인 관점입니다.\\n\\n* **목적론:** 인생은 특정 목적이나 운명이 있습니다. 이 목적은 종종 신 또는 다른 초월적인 존재가 설정한 것으로 여겨집니다.\\n* **실존주의:** 인생은 본질적으로 무의미하며 개인은 자신의 의미를 창조해야 합니다.\\n* **성취주의:** 인생의 의미는 특정 목표를 달성하고 성공을 거두는 것입니다.\\n* **관계:** 인생의 의미는 다른 사람들과의 관계에서 발견됩니다.\\n* **경험:** 인생의 의미는 다양한 경험을 쌓고 인생의 풍요로움에 감사하는 것입니다.\\n* **자기 성취:** 인생의 의미는 자신의 잠재력을 발휘하고 자신이 될 것입니다.\\n* **사회적 책임:** 인생의 의미는 사회에 기여하고 타인을 돕는 것입니다.\\n* **정신적 성장:** 인생의 의미는 영적인 성장과 깨달음을 추구하는 것입니다.\\n* **즐거움:** 인생의 의미는 단순히 즐거움을 추구하는 것입니다.\\n* **무의미함:** 인생은 본질적으로 무의미하며 의미를 부여하는 것은 개인의 선택입니다.\\n\\n궁극적으로 인생의 의미는 개인적인 해석의 문제입니다. 의미를 찾기 위해서는 자신의 가치관, 신념, 열정을 반성하는 것이 중요합니다. 또한 다른 관점에 개방적이고, 인생의 여정을 포용하며, 의미를 부여하기 위해 노력하는 것이 필수적입니다.'"
            ],
            "application/vnd.google.colaboratory.intrinsic+json": {
              "type": "string"
            }
          },
          "metadata": {},
          "execution_count": 11
        }
      ]
    },
    {
      "cell_type": "code",
      "source": [],
      "metadata": {
        "id": "w57dAa92Nby-"
      },
      "execution_count": null,
      "outputs": []
    }
  ]
}