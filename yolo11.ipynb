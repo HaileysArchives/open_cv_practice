{
 "cells": [
  {
   "cell_type": "code",
   "execution_count": null,
   "metadata": {},
   "outputs": [],
   "source": []
  },
  {
   "cell_type": "code",
   "execution_count": null,
   "metadata": {},
   "outputs": [],
   "source": []
  },
  {
   "cell_type": "code",
   "execution_count": null,
   "metadata": {},
   "outputs": [],
   "source": [
    "from ultralytics import YOLO"
   ]
  },
  {
   "cell_type": "code",
   "execution_count": 1,
   "metadata": {},
   "outputs": [
    {
     "ename": "NameError",
     "evalue": "name 'model' is not defined",
     "output_type": "error",
     "traceback": [
      "\u001b[1;31m---------------------------------------------------------------------------\u001b[0m",
      "\u001b[1;31mNameError\u001b[0m                                 Traceback (most recent call last)",
      "Cell \u001b[1;32mIn[1], line 1\u001b[0m\n\u001b[1;32m----> 1\u001b[0m test \u001b[38;5;241m=\u001b[39m \u001b[43mmodel\u001b[49m(\u001b[38;5;124m\"\u001b[39m\u001b[38;5;124m./dog.png\u001b[39m\u001b[38;5;124m\"\u001b[39m)\n",
      "\u001b[1;31mNameError\u001b[0m: name 'model' is not defined"
     ]
    }
   ],
   "source": [
    "test = model(\"./dog.png\", verbose = False)[0]\n",
    "test.boxes.data # location? \n"
   ]
  },
  {
   "cell_type": "code",
   "execution_count": null,
   "metadata": {},
   "outputs": [],
   "source": [
    "import cv2\n",
    "\n",
    "model = YOLO(\"yolo11m.pt\")\n",
    "confidence_threshold = 0.6\n",
    "\n",
    "cap = cv2.VideoCapture(\"./KakaoTalk_20241007_163330296.mp4\")\n",
    "\n",
    "while True:\n",
    "\tret, frame = cap.read()\n",
    "\n",
    "\tif not ret:\n",
    "\t\tbreak\n",
    "\n",
    "\tdetection = model(frame, verbose = False)[0]\n",
    "\n",
    "\tfor data in detection.boxes.data.tolist():\n",
    "\t\tconfidence = data[4]\n",
    "\n",
    "\t\tif confidence < confidence_threshold:\n",
    "\t\t\tcontinue\n",
    "\n",
    "\t\tx_min, y_min, x_max, y_max = int(data[0]), int(data[1]), int(data[2]), int(data[3])\n",
    "\t\tlabel = int(data[5])\n",
    "\t\tcv2.rectangle(frame, (x_min, y_min), (x_max, y_max), (0, 0, 255), 2)\n",
    "\t\t\n",
    "\t\tcv2.putText(frame, classNames[label] + str(confidence), (x_min, y_min-1), cv2.FONT_HERSHEY_COMPLEX, 0.7, (0, 0, 255))\n",
    "\n",
    "\tcv2.imshow('frame', frame)\n",
    "\n",
    "\tif cv2.waitKey(20) == 27:\n",
    "\t\tbreak\n",
    "\n",
    "cap.release()\n",
    "cv2.destroyAllWindows()"
   ]
  },
  {
   "cell_type": "code",
   "execution_count": null,
   "metadata": {},
   "outputs": [],
   "source": [
    "classnames = []\n",
    "print(len(classnames))"
   ]
  },
  {
   "cell_type": "code",
   "execution_count": null,
   "metadata": {},
   "outputs": [],
   "source": []
  }
 ],
 "metadata": {
  "kernelspec": {
   "display_name": "Python 3",
   "language": "python",
   "name": "python3"
  },
  "language_info": {
   "codemirror_mode": {
    "name": "ipython",
    "version": 3
   },
   "file_extension": ".py",
   "mimetype": "text/x-python",
   "name": "python",
   "nbconvert_exporter": "python",
   "pygments_lexer": "ipython3",
   "version": "3.12.3"
  }
 },
 "nbformat": 4,
 "nbformat_minor": 2
}
